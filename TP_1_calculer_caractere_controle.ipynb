{
 "cells": [
  {
   "cell_type": "markdown",
   "metadata": {},
   "source": [
    "# TP 1 : calculer le caractère de contrôle d'un ARK BnF\n",
    "\n",
    "## Le problème\n",
    "\n",
    "Si vous êtes utilisateur de données BnF, vous savez peut-être que la partie spécifique à un document de l'identifiant ARK se termine par un caractère de contrôle. Beaucoup d'identifiants ont également fait ce choix : c'est la clé sur deux caractères de votre numéro de sécurité sociale, c'est le dernier caractère de l'ISBN, etc. Le caractère est produit par un algorithme assez simple qui analyse les caractères \"significatifs\" et produit une \"clé\". Le but étant que, si l'on recopie à la main, ou si par un copier-coller hasardeux on tronque l'identifiant, un recalcul puisse nous avertir que notre copie est fautive.\n",
    "\n",
    "Les ARK BnF ont tous un caractère de contrôle (en réalité PRESQUE tous, mais on ne va pas s'appesantir sur ce sujet sinon je vais me mettre en boule). Ainsi, dans l'ARK ark:/12148/cb32752361d, le caractère \"d\" n'est pas significatif mais résulte simplement d'un calcul sur les autres caractères du nom ARK. Si vous cherchez l'ARK [ark:/12148/cb32752361s](https://catalogue.bnf.fr/ark:/12148/cb32752361s) dans notre catalogue, il pourra vous dire que votre ARK est mal formé, plutôt que de sortir une bête erreur 404 comme quoi il n'a pas trouvé ce que vous demandez.\n",
    "\n",
    "_Note : le nom ARK, c'est la partie spécifique à une ressource unique. Sachant que \"ark:\" est le libellé de l'identifiant, \"12148\" est l'identifiant de la BnF dans le registre ARK, donc \"cb32752361d\" est ici le nom ARK._\n",
    "\n",
    "Il se trouve que, exilé des outils BnF, j'avais besoin de créer des identifiants exemples qui aient l'air réaliste - donc qui comprennent un caractère de contrôle correspondant à la chaîne de caractères qui précède.\n",
    "\n",
    "Ni une ni deux, je me suis dit que j'allais coder cette affaire-là.\n",
    "\n",
    "La façon dont nous calculons ce caractère n'est pas un secret, elle est même tout à fait publique puisqu'elle a été piquée à la _California Digital Library_ qui la dévoile ici : https://metacpan.org/pod/distribution/Noid/noid#NOID-CHECK-DIGIT-ALGORITHM.\n",
    "\n",
    "Je vais vous en faire un petit résumé en français : afin qu'ils soient le plus opaques possible, nos ARK ne contiennent que les caractères suivants : des chiffres, et des consonnes, en évitant la lettre \"l\" qui peut être confondue avec le chiffre 1 ou un \"i\" majuscule. Nous avons donc un alphabet de 29 caractères : 0123456789bcdfghjkmnpqrstvwxz.\n",
    "\n",
    "Voici donc le calcul : on prend un nom ARK sans son caractère de contrôle, puis on analyse successivement chacun de ses caractères en multipliant son indice dans la chaîne de caractères de l'alphabet par son indice dans la chaîne de caractères du nom ARK. On additionne le résultat pour chaque position, puis on fait un modulo 29 du résultat, et on déduit de ce nombre (entre 0 et 28, si vous avez suivi) le caractère de contrôle.\n",
    "\n",
    "Serait-ce peu clair ? On va prendre un exemple ! Mettons que nous ayons la chaîne de caractères 'cb32752361' et que nous voulions en déduire le caractère de contrôle pour connaître son nom ARK. Chaque caractère de l'alphabet en base 29 a une valeur chiffrée si on la convertit en base 10, selon le tableau suivant :\n",
    "\n",
    "| 0 | 1 | 2 | 3 | 4 | 5 | 6 | 7 | 8 | 9 | b  | c  | d  | f  | g  | h  | j  | k  | m  | n  | p  | q  | r  | s  | t  | v  | w  | x  | z  |\n",
    "|---|---|---|---|---|---|---|---|---|---|----|----|----|----|----|----|----|----|----|----|----|----|----|----|----|----|----|----|----|\n",
    "| 0 | 1 | 2 | 3 | 4 | 5 | 6 | 7 | 8 | 9 | 10 | 11 | 12 | 13 | 14 | 15 | 16 | 17 | 18 | 19 | 20 | 21 | 22 | 23 | 24 | 25 | 26 | 27 | 28 |\n",
    "\n",
    "Ainsi, 'b' a pour valeur 10, 'c' 11, etc.\n",
    "\n",
    "Pour calculer le caractère de contrôle de la chaîne 'cb32752361', on calculera donc\n",
    "c (ou plutôt sa valeur chiffrée, donc 11) x 1 (sa position dans la chaîne de caractères ARK) + b (10) x 2 + 3 x 3 + 2 x 4 + ...\n",
    "\n",
    "Le total de cette série est 215. Si on divise 215 par 29 et qu'on prend le reste (le principe du modulo), on obtient 12. Et 12, dans le tableau ci-dessus, correspond à 'd', qui est notre caractère de contrôle.\n",
    "\n",
    "Donc ma proposition est de créer un petit programme python qui va, à partir d'une chaîne de caractères conforme à l'alphabet ARK BnF, renvoyer le bon caractère de contrôle. J'ai pu le coder, il n'y a pas de raison que vous ne puissiez en faire de même ! \n",
    "\n",
    "_Note : si la méthode de calcul que met en œuvre la CDL dans [son logiciel Noid de gestion d'identifiants](https://metacpan.org/pod/distribution/Noid/noid) et celle de la BnF sont similaires, elles ne portent pas sur la même partie de l'ARK : côté BnF, on n'analyse que le nom ARK, tandis que Noid analyse à partir du premier caractère du NAAN, en considérant que les caractères hors de l'alphabet ARK sur 29 caractères ont pour valeur 0._\n",
    "\n",
    "## Une solution\n",
    "\n",
    "Je vous propose la chose suivante, ça a l'air de marcher, mais je suis sûr que vous pouvez trouver autre chose, mieux, voire des erreurs dans mon code. N'hésitez pas à me faire signe...\n",
    "\n",
    "Première idée : je vais créer un fichier ARK.py. Parce que pour le moment l'ambition est très limitée, mais on pourrait essayer d'aller plus loin ensuite.\n",
    "\n",
    "Au tout début, je vais déclarer une variable 'alphabet' pour stocker toutes les lettres autorisées, dans le bon ordre bien sûr."
   ]
  },
  {
   "cell_type": "code",
   "execution_count": 27,
   "metadata": {},
   "outputs": [],
   "source": [
    "alphabet = '0123456789bcdfghjkmnpqrstvwxz'"
   ]
  },
  {
   "cell_type": "markdown",
   "metadata": {},
   "source": [
    "Je commence par créer une fonction simple qui, quand on lui donne un caractère de l'alphabet ARK, renvoie son indice dans l'alphabet. On pourra s'en servir dans plusieurs situations comme ça (ligne 1).\n",
    "\n",
    "Je vérifie par une structure conditionnelle que le paramètre qu'on a passé à la fonction n'a qu'un seul caractère et que ce caractère figure bien dans l'alphabet (ligne 2).\n",
    "\n",
    "Je lance un itérateur et une boucle while qui va parcourir les caractères de l'alphabet. Je n'utilise pas la boucle 'for' parce que j'ai besoin de l'indice de chaque caractère, qui m'est fourni par l'itérateur (lignes 3 et 4).\n",
    "\n",
    "Lorsque la boucle tombe sur l'élément de l'alphabet qui correspond à notre caractère (ligne 5)...\n",
    "\n",
    "...la fonction renvoie l'indice et s'arrête (ligne 6).\n",
    "\n",
    "Après avoir créé une boucle infinie comme le noob que je suis, je rajoute la ligne suivante pour incrémenter mon itérateur (ligne 7).\n",
    "\n",
    "Enfin, si le paramètre passé à la fonction n'est pas un unique caractère ou s'il ne figure pas dans l'alphabet, on aboie sur l'utilisateur de manière précise."
   ]
  },
  {
   "cell_type": "code",
   "execution_count": 28,
   "metadata": {},
   "outputs": [],
   "source": [
    "def indiceDansAlphabetARKBnF(caracArkBnf):\n",
    "    if len(caracArkBnf) == 1 and caracArkBnf in alphabet:\n",
    "        i = 0\n",
    "        while i < len(alphabet):\n",
    "            if alphabet[i] == caracArkBnf:\n",
    "                    return i\n",
    "            i += 1\n",
    "    else:\n",
    "        print('Cela n\\'est pas un caractère de l\\'alaphabet ARK BnF valide.')"
   ]
  },
  {
   "cell_type": "markdown",
   "metadata": {},
   "source": [
    "Réfléchissons. Je créerais bien une bête fonction qui prenne en seul argument la chaîne de caractères mais on m'a un peu appris à programmer orienté objet. Sur quel objet vais-je travailler ? Sur une chaîne de caractères destinée à devenir un nom ARK conforme aux règles BnF (ligne 1).\n",
    "\n",
    "Pour chaque chaîne de caractères, je compte ainsi créer une instance de 'chaineArkBnf'. Et je vais lui passer comme propriété de base ma chaîne de caractères. Sauf que je vais aussi lui donner une valeur vide par défaut (mon idée est que ça pourrait être intéressant ensuite de générer une chaîne de caractères aléatoire pour constituer un nom ARK. Dans ce cas-là, je créerais une classe avec une chaîne vide, et je créerais une méthode 'generer' pour obtenir une chaîne aléatoire. Mais n'anticipons pas.) (ligne 2)\n",
    "\n",
    "J'ai donc créé la méthode nommée '__init__' qui est lancée automatiquement quand on crée une instance de la classe. Dedans, je vais simplement déclarer que la variable 'valeur' a pour valeur la chaîne de caractères qu'on m'a passée en argument (ligne 3).\n",
    "\n",
    "Maintenant, je vais créer une méthode (une fonction applicable à une instance de classe) qui me permette de valider le fait que tous les caractères de ma chaîne sont bien dans l'alphabet ARK BnF (ligne 5).\n",
    "\n",
    "Je commence par initialiser une liste vide, où je compte stocker le résultat de l'analyse de chaque caractère de la chaine (ligne 6).\n",
    "\n",
    "Je parcours ensuite tous les caractères de ma chaîne avec une boucle 'for' (ligne 7).\n",
    "\n",
    "Et j'introduis une structure conditionnelle : si le caractère ne figure pas dans l'alphabet... (ligne 8)\n",
    "\n",
    "...eh bien je l'ajoute à ma liste de caractères invalides (ligne 9).\n",
    "\n",
    "Maintenant que j'ai une liste qui contient éventuellement des caractères invalides, je déclare une condition : si ma liste est vide (si sa longueur égale zéro)... (ligne 10)\n",
    "\n",
    "...je renvoie un tuple (une liste dont les valeurs ne peuvent être changées) avec comme première valeur le booléen 'True' et en seconde valeur un libellé pour l'humain (ligne 11).\n",
    "\n",
    "Sinon (si ma liste comprend au moins un élément)... (lgne 12)\n",
    "\n",
    "... je renvoie un tuple avec en première valeur le booléen 'False', et en seconde valeur une chaîne de caractères où j'intercale ma liste, mais en la convertissant d'abord en 'set' (un set, c'est comme une liste, sauf que ça ne comprend que des valeurs uniques - ça équivaut donc à éliminer les doublons d'une liste) puis en chaîne de caractères (ligne 13).\n",
    "\n",
    "Pas trop mal pour un début. Maintenant, je vais créer une seconde méthode pour calculer le caractère de contrôle (ligne 15).\n",
    "\n",
    "J'appelle ma première méthode pour vérifier que tous les caractères sont dans l'alphabet ARK BnF. Pas la peine d'aller plus loin si ce n'est pas le cas (ligne 16).\n",
    "\n",
    "Je mets une condition pour vérifier que le résultat de mon appel à la méthode 'valider' est bien (qu'en première valeur, on a bien 'True') (ligne 17).\n",
    "\n",
    "J'initialise une variable qui me permettra de stocker le résultat de mon calcul (vous vous souvenez, l'addition de toutes les valeurs des caractères multipliées par leur indice dans la chaîne) (ligne 18).\n",
    "\n",
    "Je lance un itérateur pour utiliser une boucle 'while', pour la même raison que dans la fonction qui calcule la position dans l'alphabet ARK. (lignes 19 et 20).\n",
    "\n",
    "Et j'additionne la multiplication de l'indice du caractère dans l'alphabet (grâce à un appel à ma petite fonction définie au début) par l'indice du caractère dans la chaîne. Je suis obligé d'ajouter 1 parce que le premier indice dans une liste ou une chaîne de caractères pour python, c'est 0, or la valeur du premier caractère de notre chaîne, on la multiplie par 1, pas par 0. J'aurais pu démarrer mon itérateur à 1, mais dans ce cas il aurait fallu que je lui enlève 1 pour obtenir l'indice dans l'alphabet ARK (ligne 21).\n",
    "\n",
    "Cette fois-ci je ne me laisse pas avoir et je n'oublie pas d'incrémenter l'itérateur (ligne 22).\n",
    "\n",
    "Je calcule mon caractère de contrôle en faisant le modulo 29 de mon addition puis en prenant dans l'alphabet le caractère qui a cet indice (ligne 23).\n",
    "\n",
    "Et je le renvoie (ligne 24).\n",
    "\n",
    "Et si la chaîne n'est pas valide, je renvoie plutôt le second élément du tuple renvoyé par la fonction 'valider', celle compréhensible par l'humain (lignes 25 et 26)."
   ]
  },
  {
   "cell_type": "code",
   "execution_count": 29,
   "metadata": {},
   "outputs": [],
   "source": [
    "class chaineArkBnf():\n",
    "    def __init__(self, valeur=''):\n",
    "        self.valeur = valeur\n",
    "        \n",
    "    def valider(self):\n",
    "        caracInvalides = []\n",
    "        for carac in self.valeur:\n",
    "            if carac not in alphabet:\n",
    "                caracInvalides.append(carac)\n",
    "        if len(caracInvalides) == 0:\n",
    "            return (True, 'La chaîne est valide au regard de l\\'alphabet BnF.')\n",
    "        else:\n",
    "            return (False, 'La chaîne n\\'est pas valide, les caractères %s ne figurent pas dans l\\'alphabet BnF.' % str(set(caracInvalides)))\n",
    "\n",
    "    def calculCaracControle(self):\n",
    "        valide = self.valider()\n",
    "        if valide[0] == True:\n",
    "            addition = 0\n",
    "            i = 0\n",
    "            while i < len(self.valeur):\n",
    "                addition += indiceDansAlphabetARKBnF(self.valeur[i]) * (i + 1)\n",
    "                i += 1\n",
    "            caracControle = alphabet[addition % 29]\n",
    "            return caracControle\n",
    "        else:\n",
    "            return valide[1]"
   ]
  },
  {
   "cell_type": "markdown",
   "metadata": {},
   "source": [
    "Et voilà ! Il suffit maintenant de créer une instance de classe 'chaineArkBnf' en lui donnant une chaîne de caractères comme unique paramètre, et ensuite d'appeler sur cette instance la méthode calculCaracControle."
   ]
  },
  {
   "cell_type": "code",
   "execution_count": 30,
   "metadata": {},
   "outputs": [
    {
     "name": "stdout",
     "output_type": "stream",
     "text": [
      "d\n"
     ]
    }
   ],
   "source": [
    "chaine1 = chaineArkBnf('cb32752361')\n",
    "print(chaine1.calculCaracControle())"
   ]
  },
  {
   "cell_type": "markdown",
   "metadata": {},
   "source": [
    "_Tout ça pour ça ???_\n",
    "\n",
    "Eh oui. Une minuscule lettre. Mais tout ça va nous permettre de créer des noms ARK complets, de les valider... dans un prochain TP.\n",
    "\n",
    "Vous trouverez le fichier python produit dans le même dossier, sous le nom [ARK-1.py](https://github.com/BertrandCaron/ark-tools/blob/master/ARK-1.py)."
   ]
  }
 ],
 "metadata": {
  "kernelspec": {
   "display_name": "Python 3",
   "language": "python",
   "name": "python3"
  },
  "language_info": {
   "codemirror_mode": {
    "name": "ipython",
    "version": 3
   },
   "file_extension": ".py",
   "mimetype": "text/x-python",
   "name": "python",
   "nbconvert_exporter": "python",
   "pygments_lexer": "ipython3",
   "version": "3.6.5"
  }
 },
 "nbformat": 4,
 "nbformat_minor": 2
}
